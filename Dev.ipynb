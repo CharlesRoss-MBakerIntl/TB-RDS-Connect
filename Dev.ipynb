{
 "cells": [
  {
   "cell_type": "code",
   "execution_count": 1,
   "metadata": {},
   "outputs": [],
   "source": [
    "import psycopg2\n",
    "import boto3\n",
    "import os\n",
    "import pandas as pd\n",
    "from fuzzywuzzy import fuzz\n",
    "from fuzzywuzzy import process\n",
    "\n",
    "\n",
    "from dotenv import load_dotenv\n",
    "\n",
    "from rds_connector import rds_connection\n",
    "from rds_connector import RDSTablePull\n",
    "\n",
    "from data_cleaning_utils import clean_empty_none\n",
    "\n",
    "# Load environment variables from .env file\n",
    "load_dotenv()\n",
    "\n",
    "# Access the secret value\n",
    "username = os.getenv('USER')\n",
    "password = os.getenv('PASS')\n",
    "db = os.getenv('DB')\n",
    "server = os.getenv('SERVER')\n",
    "\n",
    "try:\n",
    "\n",
    "    #Connect to AWS RDS Database\n",
    "    conn, cursor = rds_connection(username,\n",
    "                          password,\n",
    "                          db,\n",
    "                          server)\n",
    "    \n",
    "except Exception as e:\n",
    "    \n",
    "    #Raise Error\n",
    "    raise Exception(f\"AWS RDS CONNECTION ERROR: {e}\")"
   ]
  },
  {
   "cell_type": "code",
   "execution_count": 2,
   "metadata": {},
   "outputs": [],
   "source": [
    "source = {\n",
    "    'table': 'applications_application',\n",
    "    'name' : 'app',\n",
    "    'fields': [{'application_number' : 'application_number',\n",
    "                       'created_at' : 'created_at'}],\n",
    "    'project': 34,\n",
    "    'order': 'id'\n",
    "}\n",
    "\n",
    "join_list = [\n",
    "    \n",
    "    {'name': 'hotel_name',\n",
    "     'question_source': 'JOIN_SOURCE',\n",
    "     'source_id': 'id',\n",
    "     'join_id': 'application_id',\n",
    "     'data_source': 'application_data_textboxanswer',\n",
    "     'question_id': 1015,\n",
    "     'fields' : [{'value':'hotel_name'}],\n",
    "     'clean' : [{'hotel_name': ['NULL']}]\n",
    "    },\n",
    "\n",
    "    {'name': 'hotel_address',\n",
    "     'question_source': 'DATA_SOURCE',\n",
    "     'source_id': 'repeating_answer_section_id',\n",
    "     'join_id': 'repeating_answer_section_id',\n",
    "     'question_id': 1016,\n",
    "     'data_source': 'application_data_addressanswer',\n",
    "     'fields': [{'line1':'hotel_address_line_1',\n",
    "                 'line2': 'hotel_address_line_2',\n",
    "                 'city' : 'hotel_city',\n",
    "                 'state': 'hotel_state',\n",
    "                 'zip' : 'hotel_zip'}],\n",
    "     'clean' : [{'hotel_address_line_1': ['NULL']},\n",
    "                {'hotel_city': ['NULL']},\n",
    "                {'hotel_state': ['NULL']},\n",
    "                {'hotel_zip': ['NULL']}]\n",
    "    },\n",
    "\n",
    "    {'name': 'hotel_status',\n",
    "     'question_source': 'DATA_SOURCE',\n",
    "     'source_id': 'repeating_answer_section_id',\n",
    "     'join_id': 'repeating_answer_section_id',\n",
    "     'data_source': 'application_data_singleselectanswer',\n",
    "     'question_id': 1013,\n",
    "     'fields': [{'value':'hotel_status'}],\n",
    "     'clean' : []\n",
    "    },\n",
    "\n",
    "    {'name': 'license_in',\n",
    "     'question_source': 'DATA_SOURCE',\n",
    "     'source_id': 'repeating_answer_section_id',\n",
    "     'join_id': 'repeating_answer_section_id',\n",
    "     'data_source': 'application_data_dateanswer',\n",
    "     'question_id': 1021,\n",
    "     'fields': [{'value':'license_in'}],\n",
    "     'clean' : [{'license_in': ['DATE_CONVERT']}]\n",
    "    },\n",
    "\n",
    "    {'name': 'license_out',\n",
    "     'question_source': 'DATA_SOURCE',\n",
    "     'source_id': 'repeating_answer_section_id',\n",
    "     'join_id': 'repeating_answer_section_id',\n",
    "     'data_source': 'application_data_dateanswer',\n",
    "     'question_id': 1022,\n",
    "     'fields': [{'value':'license_out'}],\n",
    "     'clean' : [{'license_out': ['DATE_CONVERT']}]\n",
    "    },\n",
    "\n",
    "    {'name': 'total_in_household',\n",
    "     'question_source': 'JOIN_SOURCE',\n",
    "     'source_id': 'id',\n",
    "     'join_id': 'application_id',\n",
    "     'data_source': 'application_data_numberanswer',\n",
    "     'question_id': 596,\n",
    "     'fields': [{'value':'total_in_household'}],\n",
    "     'clean' : [{'total_in_household': ['INT_CONVERT']}]\n",
    "    }\n",
    "]"
   ]
  },
  {
   "cell_type": "code",
   "execution_count": null,
   "metadata": {},
   "outputs": [],
   "source": []
  },
  {
   "cell_type": "code",
   "execution_count": 3,
   "metadata": {},
   "outputs": [],
   "source": [
    "rds = RDSTablePull(conn = conn,\n",
    "                   cursor = cursor,\n",
    "                   source = source, \n",
    "                   join_list = join_list)\n"
   ]
  },
  {
   "cell_type": "code",
   "execution_count": null,
   "metadata": {},
   "outputs": [],
   "source": [
    "rds.query_to_df(cleaning = True)"
   ]
  },
  {
   "cell_type": "code",
   "execution_count": 6,
   "metadata": {},
   "outputs": [
    {
     "data": {
      "text/plain": [
       "[]"
      ]
     },
     "execution_count": 6,
     "metadata": {},
     "output_type": "execute_result"
    }
   ],
   "source": [
    "rds.cleaning_versions"
   ]
  },
  {
   "cell_type": "code",
   "execution_count": null,
   "metadata": {},
   "outputs": [],
   "source": [
    "\n",
    "\n",
    "# AWS credentials\n",
    "#ACCESS_KEY = os.getenv(\"ACESSKEY\")\n",
    "#SECRET_KEY = os.getenv(\"SECRETKEY\")\n",
    "\n",
    "# Bucket and file information\n",
    "bucket_name = 'your_bucket_name'\n",
    "file_path = 'path_to_your_csv_file.csv'\n",
    "key_name = 'key_name_for_csv_file_in_s3_bucket.csv'\n",
    "\n",
    "# Create a S3 client\n",
    "s3 = boto3.client('s3', aws_access_key_id=ACCESS_KEY, aws_secret_access_key=SECRET_KEY)\n",
    "\n",
    "# Upload the CSV file to S3 bucket\n",
    "s3.upload_file(file_path, bucket_name, key_name)\n",
    "\n",
    "print(f'{file_path} has been successfully uploaded to {bucket_name}/{key_name}')"
   ]
  }
 ],
 "metadata": {
  "kernelspec": {
   "display_name": "tidal-basin",
   "language": "python",
   "name": "python3"
  },
  "language_info": {
   "codemirror_mode": {
    "name": "ipython",
    "version": 3
   },
   "file_extension": ".py",
   "mimetype": "text/x-python",
   "name": "python",
   "nbconvert_exporter": "python",
   "pygments_lexer": "ipython3",
   "version": "3.12.7"
  }
 },
 "nbformat": 4,
 "nbformat_minor": 2
}
