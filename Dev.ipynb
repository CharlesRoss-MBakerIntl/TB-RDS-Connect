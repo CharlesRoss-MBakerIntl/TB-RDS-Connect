{
 "cells": [
  {
   "cell_type": "code",
   "execution_count": 6,
   "metadata": {},
   "outputs": [],
   "source": [
    "import psycopg2\n",
    "import os\n",
    "\n",
    "from dotenv import load_dotenv\n",
    "\n",
    "from rds_connector import rds_connection\n",
    "from teams_notifications import channel_notification\n",
    "\n",
    "# Load environment variables from .env file\n",
    "load_dotenv()\n",
    "\n",
    "# Access the secret value\n",
    "username = os.getenv('USER')\n",
    "password = os.getenv('PASS')\n",
    "db = os.getenv('DB')\n",
    "server = os.getenv('SERVER')"
   ]
  },
  {
   "cell_type": "code",
   "execution_count": 4,
   "metadata": {},
   "outputs": [
    {
     "data": {
      "text/plain": [
       "'power_bi'"
      ]
     },
     "execution_count": 4,
     "metadata": {},
     "output_type": "execute_result"
    }
   ],
   "source": [
    "try:\n",
    "\n",
    "    #Connect to AWS RDS Database\n",
    "    conn = rds_connection(username,\n",
    "                          password,\n",
    "                          db,\n",
    "                          server)\n",
    "    \n",
    "except Exception as e:\n",
    "\n",
    "    #Notify Teams of Failure\n",
    "    channel_notification(alert_type = \"Error\", \n",
    "                         summary = \"RDS CONNECTION ERROR\", \n",
    "                         message = \"Could not connect to the AWS RDS Database\",\n",
    "                         error = e)\n",
    "    \n",
    "    #Raise Error\n",
    "    raise(f\"AWS RDS CONNECTION ERROR: {e}\")\n"
   ]
  },
  {
   "cell_type": "code",
   "execution_count": null,
   "metadata": {},
   "outputs": [],
   "source": []
  }
 ],
 "metadata": {
  "kernelspec": {
   "display_name": "tidal_basin",
   "language": "python",
   "name": "python3"
  },
  "language_info": {
   "codemirror_mode": {
    "name": "ipython",
    "version": 3
   },
   "file_extension": ".py",
   "mimetype": "text/x-python",
   "name": "python",
   "nbconvert_exporter": "python",
   "pygments_lexer": "ipython3",
   "version": "3.9.20"
  }
 },
 "nbformat": 4,
 "nbformat_minor": 2
}
