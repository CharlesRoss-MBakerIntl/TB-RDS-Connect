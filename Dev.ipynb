{
 "cells": [
  {
   "cell_type": "code",
   "execution_count": 1,
   "metadata": {},
   "outputs": [],
   "source": [
    "import psycopg2\n",
    "import boto3\n",
    "import os\n",
    "import pandas as pd\n",
    "from fuzzywuzzy import fuzz\n",
    "from fuzzywuzzy import process\n",
    "\n",
    "\n",
    "from dotenv import load_dotenv\n",
    "\n",
    "from rds_connector import rds_connection\n",
    "from rds_connector import RDSTablePull\n",
    "\n",
    "from data_cleaning_utils import clean_empty_none\n",
    "\n",
    "from query_package import get_query_package\n",
    "\n",
    "# Load environment variables from .env file\n",
    "load_dotenv()\n",
    "\n",
    "# Access the secret value\n",
    "username = os.getenv('USER')\n",
    "password = os.getenv('PASS')\n",
    "db = os.getenv('DB')\n",
    "server = os.getenv('SERVER')\n",
    "\n",
    "access = os.getenv(\"ACCESS\")\n",
    "secret = os.getenv(\"SECRET\")\n",
    "\n",
    "try:\n",
    "\n",
    "    #Connect to AWS RDS Database\n",
    "    conn, cursor = rds_connection(username,\n",
    "                          password,\n",
    "                          db,\n",
    "                          server)\n",
    "    \n",
    "except Exception as e:\n",
    "    \n",
    "    #Raise Error\n",
    "    raise Exception(f\"AWS RDS CONNECTION ERROR: {e}\")\n",
    "\n",
    "# Pull the Query Package\n",
    "query_package = get_query_package()"
   ]
  },
  {
   "cell_type": "code",
   "execution_count": 3,
   "metadata": {},
   "outputs": [],
   "source": [
    "rds = RDSTablePull(conn = conn,\n",
    "                   cursor = cursor,\n",
    "                   query_package = query_package)\n",
    "\n",
    "df = rds.query_to_df()"
   ]
  },
  {
   "cell_type": "code",
   "execution_count": 22,
   "metadata": {},
   "outputs": [],
   "source": [
    "for item in rds.cleaning_versions:\n",
    "    \n",
    "    # Create File Name\n",
    "    if item['Field'] == None:\n",
    "        file_name = f\"{item['Step']}\"\n",
    "    else:\n",
    "        file_name = f\"{item['Field']}: {item['Step']}\"\n",
    "\n",
    "    # Store DataFrame as CSV\n",
    "    #data = item['Result'].to_csv(f\"{file_name}.csv\")"
   ]
  },
  {
   "cell_type": "code",
   "execution_count": null,
   "metadata": {},
   "outputs": [],
   "source": [
    "# Bucket and file information\n",
    "bucket_name = 'reporting-external'\n",
    "\n",
    "# Create a S3 client\n",
    "s3 = boto3.client('s3', aws_access_key_id=access, aws_secret_access_key=secret)\n",
    "\n",
    "result = s3.list_objects_v2(Bucket=bucket_name, Delimiter='/')\n"
   ]
  }
 ],
 "metadata": {
  "kernelspec": {
   "display_name": "tidal-basin",
   "language": "python",
   "name": "python3"
  },
  "language_info": {
   "codemirror_mode": {
    "name": "ipython",
    "version": 3
   },
   "file_extension": ".py",
   "mimetype": "text/x-python",
   "name": "python",
   "nbconvert_exporter": "python",
   "pygments_lexer": "ipython3",
   "version": "3.12.7"
  }
 },
 "nbformat": 4,
 "nbformat_minor": 2
}
