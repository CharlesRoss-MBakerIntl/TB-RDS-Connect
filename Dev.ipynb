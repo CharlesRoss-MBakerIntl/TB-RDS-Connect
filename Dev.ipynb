{
 "cells": [
  {
   "cell_type": "code",
   "execution_count": 6,
   "metadata": {},
   "outputs": [],
   "source": [
    "import psycopg2\n",
    "import os\n",
    "import pandas as pd\n",
    "\n",
    "from dotenv import load_dotenv\n",
    "\n",
    "from rds_connector import rds_connection\n",
    "from teams_notifications import channel_notification\n",
    "\n",
    "# Load environment variables from .env file\n",
    "load_dotenv()\n",
    "\n",
    "# Access the secret value\n",
    "username = os.getenv('USER')\n",
    "password = os.getenv('PASS')\n",
    "db = os.getenv('DB')\n",
    "server = os.getenv('SERVER')"
   ]
  },
  {
   "cell_type": "code",
   "execution_count": 15,
   "metadata": {},
   "outputs": [],
   "source": [
    "try:\n",
    "\n",
    "    #Connect to AWS RDS Database\n",
    "    conn, cursor = rds_connection(username,\n",
    "                          password,\n",
    "                          db,\n",
    "                          server)\n",
    "    \n",
    "except Exception as e:\n",
    "    \n",
    "    #Raise Error\n",
    "    raise(f\"AWS RDS CONNECTION ERROR: {e}\")\n"
   ]
  },
  {
   "cell_type": "code",
   "execution_count": 17,
   "metadata": {},
   "outputs": [
    {
     "data": {
      "text/plain": [
       "<cursor object at 0x000002058332F4C0; closed: 0>"
      ]
     },
     "execution_count": 17,
     "metadata": {},
     "output_type": "execute_result"
    }
   ],
   "source": [
    "cursor"
   ]
  }
 ],
 "metadata": {
  "kernelspec": {
   "display_name": "tidal-basin",
   "language": "python",
   "name": "python3"
  },
  "language_info": {
   "codemirror_mode": {
    "name": "ipython",
    "version": 3
   },
   "file_extension": ".py",
   "mimetype": "text/x-python",
   "name": "python",
   "nbconvert_exporter": "python",
   "pygments_lexer": "ipython3",
   "version": "3.12.7"
  }
 },
 "nbformat": 4,
 "nbformat_minor": 2
}
