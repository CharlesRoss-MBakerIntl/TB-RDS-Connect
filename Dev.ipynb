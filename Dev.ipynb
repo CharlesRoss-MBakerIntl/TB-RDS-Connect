{
 "cells": [
  {
   "cell_type": "code",
   "execution_count": 1,
   "metadata": {},
   "outputs": [],
   "source": [
    "import psycopg2\n",
    "import os\n",
    "import pandas as pd\n",
    "import pickle\n",
    "\n",
    "from dotenv import load_dotenv\n",
    "\n",
    "from rds_connector import rds_connection\n",
    "from rds_connector import list_tables\n",
    "from rds_connector import sql_query\n",
    "from rds_connector import rds_sql_pull\n",
    "\n",
    "from teams_notifications import channel_notification\n",
    "\n",
    "# Load environment variables from .env file\n",
    "load_dotenv()\n",
    "\n",
    "# Access the secret value\n",
    "username = os.getenv('USER')\n",
    "password = os.getenv('PASS')\n",
    "db = os.getenv('DB')\n",
    "server = os.getenv('SERVER')\n",
    "\n",
    "try:\n",
    "\n",
    "    #Connect to AWS RDS Database\n",
    "    conn, cursor = rds_connection(username,\n",
    "                          password,\n",
    "                          db,\n",
    "                          server)\n",
    "    \n",
    "except Exception as e:\n",
    "    \n",
    "    #Raise Error\n",
    "    raise(f\"AWS RDS CONNECTION ERROR: {e}\")"
   ]
  },
  {
   "cell_type": "code",
   "execution_count": null,
   "metadata": {},
   "outputs": [],
   "source": []
  },
  {
   "cell_type": "code",
   "execution_count": null,
   "metadata": {},
   "outputs": [],
   "source": []
  },
  {
   "cell_type": "code",
   "execution_count": null,
   "metadata": {},
   "outputs": [],
   "source": []
  },
  {
   "cell_type": "code",
   "execution_count": 7,
   "metadata": {},
   "outputs": [],
   "source": [
    "class RDSTable:\n",
    "\n",
    "    def __init__(self, queries):\n",
    "        self.queries = queries\n",
    "\n",
    "\n",
    "    def data_tables(self):\n",
    "        \n",
    "        #Create Empty Table Dictionary\n",
    "        data_tables = {}\n",
    "\n",
    "        #Cycle Through Queries and Create Data Tables\n",
    "        for query in self.queries:\n",
    "            \n",
    "            df = rds_sql_pull(cursor, query['query'])\n",
    "\n",
    "            query_dict = query\n",
    "            query_dict['df'] = df\n",
    "\n",
    "            data_tables[query['name']] = query_dict\n",
    "\n",
    "        print(data_tables)\n",
    "        \n",
    "        return data_tables\n",
    "\n",
    "\n",
    "\n",
    "\n",
    "\n",
    "\n",
    "    def compare_columns(self):\n",
    "        pass\n",
    "\n",
    "    def connect_table(self):\n",
    "        pass"
   ]
  }
 ],
 "metadata": {
  "kernelspec": {
   "display_name": "tidal-basin",
   "language": "python",
   "name": "python3"
  },
  "language_info": {
   "codemirror_mode": {
    "name": "ipython",
    "version": 3
   },
   "file_extension": ".py",
   "mimetype": "text/x-python",
   "name": "python",
   "nbconvert_exporter": "python",
   "pygments_lexer": "ipython3",
   "version": "3.12.7"
  }
 },
 "nbformat": 4,
 "nbformat_minor": 2
}
